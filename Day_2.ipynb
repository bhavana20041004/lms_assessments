{
 "cells": [
  {
   "cell_type": "markdown",
   "id": "240d0944",
   "metadata": {},
   "source": [
    "Create a List, tuple and Dictionary with 5 elements in it and how to access few elements based on the index. Try  with different examples "
   ]
  },
  {
   "cell_type": "code",
   "execution_count": 1,
   "id": "48107595",
   "metadata": {},
   "outputs": [
    {
     "name": "stdout",
     "output_type": "stream",
     "text": [
      "First element: 10\n",
      "Third element: 3.14\n",
      "Last element: [1, 2, 3]\n",
      "First element: 1\n",
      "Third element: world\n",
      "Last element: (4, 5)\n",
      "Name: Alice\n",
      "Age: 30\n",
      "Hobbies: ['reading', 'painting']\n"
     ]
    }
   ],
   "source": [
    "my_list = [10, \"hello\", 3.14, True, [1, 2, 3]]\n",
    "\n",
    "print(\"First element:\", my_list[0])  \n",
    "print(\"Third element:\", my_list[2])  \n",
    "print(\"Last element:\", my_list[-1]) \n",
    "\n",
    "my_tuple = (1, 2, \"world\", False, (4, 5))\n",
    "\n",
    "print(\"First element:\", my_tuple[0])  \n",
    "print(\"Third element:\", my_tuple[2])  \n",
    "print(\"Last element:\", my_tuple[-1]) \n",
    "\n",
    "my_dict = {\"name\": \"Alice\", \"age\": 30, \"city\": \"New York\", \"country\": \"USA\", \"hobbies\": [\"reading\", \"painting\"]}\n",
    "\n",
    "print(\"Name:\", my_dict[\"name\"]) \n",
    "print(\"Age:\", my_dict[\"age\"]) \n",
    "print(\"Hobbies:\", my_dict[\"hobbies\"])"
   ]
  }
 ],
 "metadata": {
  "kernelspec": {
   "display_name": "Python 3 (ipykernel)",
   "language": "python",
   "name": "python3"
  },
  "language_info": {
   "codemirror_mode": {
    "name": "ipython",
    "version": 3
   },
   "file_extension": ".py",
   "mimetype": "text/x-python",
   "name": "python",
   "nbconvert_exporter": "python",
   "pygments_lexer": "ipython3",
   "version": "3.9.13"
  }
 },
 "nbformat": 4,
 "nbformat_minor": 5
}
