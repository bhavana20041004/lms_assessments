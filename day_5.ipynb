{
 "cells": [
  {
   "cell_type": "markdown",
   "id": "81908fbf",
   "metadata": {},
   "source": [
    "Write a Python program to calculate the frequency of each word in a given text. Print thewords and their corresponding counts"
   ]
  },
  {
   "cell_type": "code",
   "execution_count": 1,
   "id": "727beb2f",
   "metadata": {},
   "outputs": [
    {
     "name": "stdout",
     "output_type": "stream",
     "text": [
      "Enter the text: hi there hi\n",
      "hi: 2\n",
      "there: 1\n"
     ]
    }
   ],
   "source": [
    "from collections import Counter\n",
    "\n",
    "def word_frequency(text):\n",
    "  words = text.split()\n",
    "  word_counts = Counter(words)\n",
    "  return word_counts\n",
    "\n",
    "text = input(\"Enter the text: \")\n",
    "\n",
    "word_counts = word_frequency(text)\n",
    "\n",
    "for word, count in word_counts.items():\n",
    "  print(f\"{word}: {count}\")"
   ]
  }
 ],
 "metadata": {
  "kernelspec": {
   "display_name": "Python 3 (ipykernel)",
   "language": "python",
   "name": "python3"
  },
  "language_info": {
   "codemirror_mode": {
    "name": "ipython",
    "version": 3
   },
   "file_extension": ".py",
   "mimetype": "text/x-python",
   "name": "python",
   "nbconvert_exporter": "python",
   "pygments_lexer": "ipython3",
   "version": "3.9.13"
  }
 },
 "nbformat": 4,
 "nbformat_minor": 5
}
