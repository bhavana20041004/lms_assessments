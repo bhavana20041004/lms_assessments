{
 "cells": [
  {
   "cell_type": "markdown",
   "id": "47d23ef3",
   "metadata": {},
   "source": [
    "Exercises on Web Scraping - Coding Assignment\n",
    "Assignment:\n",
    "Write a Python script to fetch and print the title of a webpage using the 'requests' and 'BeautifulSoup' libraries. Test it with the URL: 'https://example.com'.\n",
    " "
   ]
  },
  {
   "cell_type": "code",
   "execution_count": 1,
   "id": "d6e85edd",
   "metadata": {},
   "outputs": [
    {
     "name": "stdout",
     "output_type": "stream",
     "text": [
      "Page title: Example Domain\n"
     ]
    }
   ],
   "source": [
    "import requests\n",
    "from bs4 import BeautifulSoup\n",
    "\n",
    "def fetch_page_title(url):\n",
    "  try:\n",
    "    response = requests.get(url)\n",
    "    response.raise_for_status() \n",
    "    soup = BeautifulSoup(response.content, 'html.parser')\n",
    "    title_tag = soup.find('title')\n",
    "    if title_tag:\n",
    "      return title_tag.string.strip()\n",
    "    else:\n",
    "      return None\n",
    "  except requests.exceptions.RequestException as e:\n",
    "    print(f\"Error fetching page: {e}\")\n",
    "    return None\n",
    "\n",
    "url = 'https://example.com'\n",
    "title = fetch_page_title(url)\n",
    "\n",
    "if title:\n",
    "  print(\"Page title:\", title)\n",
    "else:\n",
    "  print(\"Title not found.\")"
   ]
  },
  {
   "cell_type": "code",
   "execution_count": null,
   "id": "2cc497db",
   "metadata": {},
   "outputs": [],
   "source": []
  }
 ],
 "metadata": {
  "kernelspec": {
   "display_name": "Python 3 (ipykernel)",
   "language": "python",
   "name": "python3"
  },
  "language_info": {
   "codemirror_mode": {
    "name": "ipython",
    "version": 3
   },
   "file_extension": ".py",
   "mimetype": "text/x-python",
   "name": "python",
   "nbconvert_exporter": "python",
   "pygments_lexer": "ipython3",
   "version": "3.9.13"
  }
 },
 "nbformat": 4,
 "nbformat_minor": 5
}
