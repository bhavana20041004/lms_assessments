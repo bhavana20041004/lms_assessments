{
 "cells": [
  {
   "cell_type": "markdown",
   "id": "63990976",
   "metadata": {},
   "source": [
    "Text Cleaning Lowercasing Removing Special Characters - Coding Assignment\n",
    "Assignment:\n",
    "Write a Python function to clean a given text by removing special characters and converting it to lowercase. Test it with the input: 'Hello, World! Welcome to NLP 101.'\n"
   ]
  },
  {
   "cell_type": "code",
   "execution_count": 1,
   "id": "258eca15",
   "metadata": {},
   "outputs": [
    {
     "name": "stdout",
     "output_type": "stream",
     "text": [
      "Cleaned text: hello world welcome to nlp \n"
     ]
    }
   ],
   "source": [
    "import re\n",
    "\n",
    "def clean_text(text):\n",
    "  text = text.lower()  \n",
    "  text = re.sub(r'[^a-z\\s]', '', text)  \n",
    "  return text\n",
    "\n",
    "input_text = 'Hello, World! Welcome to NLP 10.'\n",
    "cleaned_text = clean_text(input_text)\n",
    "print(\"Cleaned text:\", cleaned_text)"
   ]
  },
  {
   "cell_type": "code",
   "execution_count": null,
   "id": "0fc1616e",
   "metadata": {},
   "outputs": [],
   "source": []
  }
 ],
 "metadata": {
  "kernelspec": {
   "display_name": "Python 3 (ipykernel)",
   "language": "python",
   "name": "python3"
  },
  "language_info": {
   "codemirror_mode": {
    "name": "ipython",
    "version": 3
   },
   "file_extension": ".py",
   "mimetype": "text/x-python",
   "name": "python",
   "nbconvert_exporter": "python",
   "pygments_lexer": "ipython3",
   "version": "3.9.13"
  }
 },
 "nbformat": 4,
 "nbformat_minor": 5
}
