{
 "cells": [
  {
   "cell_type": "markdown",
   "id": "00ae61b3",
   "metadata": {},
   "source": [
    " Write a Python program to calculate the sum of all even numbers between 1 and a given positive integer n"
   ]
  },
  {
   "cell_type": "code",
   "execution_count": 1,
   "id": "8b200daf",
   "metadata": {},
   "outputs": [
    {
     "name": "stdout",
     "output_type": "stream",
     "text": [
      "Enter a positive integer: 20\n",
      "Sum of even numbers between 1 and 20 is: 110\n"
     ]
    }
   ],
   "source": [
    "def sum_even_numbers(n):\n",
    "  sum_even = 0\n",
    "  for i in range(2, n+1, 2):\n",
    "    sum_even += i\n",
    "  return sum_even\n",
    "\n",
    "n = int(input(\"Enter a positive integer: \"))\n",
    "\n",
    "result = sum_even_numbers(n)\n",
    "print(\"Sum of even numbers between 1 and\", n, \"is:\", result)"
   ]
  }
 ],
 "metadata": {
  "kernelspec": {
   "display_name": "Python 3 (ipykernel)",
   "language": "python",
   "name": "python3"
  },
  "language_info": {
   "codemirror_mode": {
    "name": "ipython",
    "version": 3
   },
   "file_extension": ".py",
   "mimetype": "text/x-python",
   "name": "python",
   "nbconvert_exporter": "python",
   "pygments_lexer": "ipython3",
   "version": "3.9.13"
  }
 },
 "nbformat": 4,
 "nbformat_minor": 5
}
