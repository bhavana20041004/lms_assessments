{
 "cells": [
  {
   "cell_type": "markdown",
   "id": "ed8c97c2",
   "metadata": {},
   "source": [
    "Examples on Regular Expressions - Coding Assignment\n",
    "Assignment:\n",
    "Write a Python function using regular expressions to extract all email addresses from a given string. Test it with the input: 'Contact us at support@example.com and sales@example.org.'\n"
   ]
  },
  {
   "cell_type": "code",
   "execution_count": 1,
   "id": "e856e76a",
   "metadata": {},
   "outputs": [
    {
     "name": "stdout",
     "output_type": "stream",
     "text": [
      "Extracted emails: ['support@example.com', 'sales@example.org']\n"
     ]
    }
   ],
   "source": [
    "import re\n",
    "\n",
    "def extract_emails(text):\n",
    "  email_pattern = r\"[a-z0-9!#$%&'*+/=?^_`{|}~-]+(?:\\.[a-z0-9!#$%&'*+/=?^_`{|}~-]+)*@(?:[a-z0-9](?:[a-z0-9-]*[a-z0-9])?\\.)+[a-z]{2,}\"\n",
    "  emails = re.findall(email_pattern, text)\n",
    "  return emails\n",
    "\n",
    "input_text = 'Contact us at support@example.com and sales@example.org.'\n",
    "emails = extract_emails(input_text)\n",
    "print(\"Extracted emails:\", emails)"
   ]
  },
  {
   "cell_type": "code",
   "execution_count": null,
   "id": "39b79cdc",
   "metadata": {},
   "outputs": [],
   "source": []
  }
 ],
 "metadata": {
  "kernelspec": {
   "display_name": "Python 3 (ipykernel)",
   "language": "python",
   "name": "python3"
  },
  "language_info": {
   "codemirror_mode": {
    "name": "ipython",
    "version": 3
   },
   "file_extension": ".py",
   "mimetype": "text/x-python",
   "name": "python",
   "nbconvert_exporter": "python",
   "pygments_lexer": "ipython3",
   "version": "3.9.13"
  }
 },
 "nbformat": 4,
 "nbformat_minor": 5
}
