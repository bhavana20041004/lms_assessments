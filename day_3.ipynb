{
 "cells": [
  {
   "cell_type": "markdown",
   "id": "46d2c487",
   "metadata": {},
   "source": [
    "Write a Python program that takes a student's marks in three subjects as input.\n",
    "If the average is greater than or equal to 90, print \"Grade: A\".\n",
    "If the average is between 80 and 89, print \"Grade: B\".\n",
    "If the average is between 70 and 79, print \"Grade: C\".\n",
    "Otherwise, print \"Grade: Fail\".\n"
   ]
  },
  {
   "cell_type": "code",
   "execution_count": 1,
   "id": "04f5ace3",
   "metadata": {},
   "outputs": [
    {
     "name": "stdout",
     "output_type": "stream",
     "text": [
      "Enter marks in Math: 75\n",
      "Enter marks in Science: 80\n",
      "Enter marks in English: 90\n",
      "Grade: B\n"
     ]
    }
   ],
   "source": [
    "math_marks = float(input(\"Enter marks in Math: \"))\n",
    "science_marks = float(input(\"Enter marks in Science: \"))\n",
    "english_marks = float(input(\"Enter marks in English: \"))\n",
    "\n",
    "average_marks = (math_marks + science_marks + english_marks) / 3\n",
    "\n",
    "if average_marks >= 90:\n",
    "    grade = \"A\"\n",
    "elif average_marks >= 80:\n",
    "    grade = \"B\"\n",
    "elif average_marks >= 70:\n",
    "    grade = \"C\"\n",
    "else:\n",
    "    grade = \"Fail\"\n",
    "\n",
    "print(\"Grade:\", grade)"
   ]
  }
 ],
 "metadata": {
  "kernelspec": {
   "display_name": "Python 3 (ipykernel)",
   "language": "python",
   "name": "python3"
  },
  "language_info": {
   "codemirror_mode": {
    "name": "ipython",
    "version": 3
   },
   "file_extension": ".py",
   "mimetype": "text/x-python",
   "name": "python",
   "nbconvert_exporter": "python",
   "pygments_lexer": "ipython3",
   "version": "3.9.13"
  }
 },
 "nbformat": 4,
 "nbformat_minor": 5
}
