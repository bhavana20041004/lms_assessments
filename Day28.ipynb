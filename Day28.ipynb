{
 "cells": [
  {
   "cell_type": "code",
   "execution_count": 1,
   "id": "e86cb86e-5c44-49f7-9c2e-0843420fd96a",
   "metadata": {},
   "outputs": [
    {
     "name": "stdout",
     "output_type": "stream",
     "text": [
      "Entities and their types:\n",
      "Apple (ORG)\n",
      "U.K. (GPE)\n",
      "$1 billion (MONEY)\n",
      "Elon Musk (PERSON)\n"
     ]
    }
   ],
   "source": [
    "import spacy\n",
    "\n",
    "def perform_ner(text):\n",
    "    nlp = spacy.load(\"en_core_web_sm\")\n",
    "    \n",
    "    doc = nlp(text)\n",
    "    \n",
    "    print(\"Entities and their types:\")\n",
    "    for ent in doc.ents:\n",
    "        print(f\"{ent.text} ({ent.label_})\")\n",
    "\n",
    "text = \"Apple is looking at buying U.K. startup for $1 billion. Elon Musk founded SpaceX.\"\n",
    "\n",
    "perform_ner(text)\n"
   ]
  },
  {
   "cell_type": "code",
   "execution_count": null,
   "id": "40057203-849c-4f36-bc6a-dcae0982932b",
   "metadata": {},
   "outputs": [],
   "source": []
  }
 ],
 "metadata": {
  "kernelspec": {
   "display_name": "Python 3 (ipykernel)",
   "language": "python",
   "name": "python3"
  },
  "language_info": {
   "codemirror_mode": {
    "name": "ipython",
    "version": 3
   },
   "file_extension": ".py",
   "mimetype": "text/x-python",
   "name": "python",
   "nbconvert_exporter": "python",
   "pygments_lexer": "ipython3",
   "version": "3.11.5"
  }
 },
 "nbformat": 4,
 "nbformat_minor": 5
}
