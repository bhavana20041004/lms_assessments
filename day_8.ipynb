{
 "cells": [
  {
   "cell_type": "markdown",
   "id": "cf174786",
   "metadata": {},
   "source": [
    "Write a Python script that:\n",
    "1. Tokenizes a sample paragraph into words and sentences."
   ]
  },
  {
   "cell_type": "code",
   "execution_count": 1,
   "id": "3d05dc5b",
   "metadata": {},
   "outputs": [
    {
     "name": "stdout",
     "output_type": "stream",
     "text": [
      "Sentences:\n",
      "['This is an example paragraph.', 'It contains multiple sentences.', 'We will tokenize it into words and sentences.']\n",
      "\n",
      "Words:\n",
      "['This', 'is', 'an', 'example', 'paragraph', '.', 'It', 'contains', 'multiple', 'sentences', '.', 'We', 'will', 'tokenize', 'it', 'into', 'words', 'and', 'sentences', '.']\n"
     ]
    },
    {
     "name": "stderr",
     "output_type": "stream",
     "text": [
      "[nltk_data] Downloading package punkt to\n",
      "[nltk_data]     C:\\Users\\Rohit\\AppData\\Roaming\\nltk_data...\n",
      "[nltk_data]   Package punkt is already up-to-date!\n"
     ]
    }
   ],
   "source": [
    "from nltk.tokenize import word_tokenize, sent_tokenize\n",
    "import nltk\n",
    "\n",
    "nltk.download('punkt') \n",
    "\n",
    "text = \"This is an example paragraph. It contains multiple sentences. We will tokenize it into words and sentences.\"\n",
    "\n",
    "sentences = sent_tokenize(text)\n",
    "print(\"Sentences:\")\n",
    "print(sentences)\n",
    "\n",
    "words = word_tokenize(text)\n",
    "print(\"\\nWords:\")\n",
    "print(words)"
   ]
  }
 ],
 "metadata": {
  "kernelspec": {
   "display_name": "Python 3 (ipykernel)",
   "language": "python",
   "name": "python3"
  },
  "language_info": {
   "codemirror_mode": {
    "name": "ipython",
    "version": 3
   },
   "file_extension": ".py",
   "mimetype": "text/x-python",
   "name": "python",
   "nbconvert_exporter": "python",
   "pygments_lexer": "ipython3",
   "version": "3.9.13"
  }
 },
 "nbformat": 4,
 "nbformat_minor": 5
}
