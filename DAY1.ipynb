{
 "cells": [
  {
   "cell_type": "code",
   "execution_count": null,
   "id": "812eddcf-f55a-4fe7-9ca6-e7cd85216b43",
   "metadata": {},
   "outputs": [],
   "source": []
  }
 ],
 "metadata": {
  "kernelspec": {
   "display_name": "",
   "name": ""
  },
  "language_info": {
   "name": ""
  }
 },
 "nbformat": 4,
 "nbformat_minor": 5
}
